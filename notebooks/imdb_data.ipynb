{
 "cells": [
  {
   "metadata": {
    "ExecuteTime": {
     "end_time": "2025-10-07T15:59:56.700866Z",
     "start_time": "2025-10-07T15:59:56.655815Z"
    }
   },
   "cell_type": "code",
   "source": [
    "import sqlite3\n",
    "import pandas as pd\n",
    "import os"
   ],
   "id": "bbeee2a3a86b9dfc",
   "outputs": [],
   "execution_count": 5
  },
  {
   "metadata": {
    "ExecuteTime": {
     "end_time": "2025-10-07T15:59:56.938890Z",
     "start_time": "2025-10-07T15:59:56.926999Z"
    }
   },
   "cell_type": "code",
   "source": [
    "sql_path = \"../data/sql/\"\n",
    "imdb_path = os.path.join(sql_path, \"imdb.sqlite\")\n",
    "imdb_conn = sqlite3.connect(imdb_path)"
   ],
   "id": "867aefd7c679280c",
   "outputs": [],
   "execution_count": 6
  },
  {
   "metadata": {
    "ExecuteTime": {
     "end_time": "2025-10-07T15:59:57.458271Z",
     "start_time": "2025-10-07T15:59:57.452467Z"
    }
   },
   "cell_type": "code",
   "source": [
    "tables = imdb_conn.execute(\"SELECT name FROM sqlite_master WHERE type='table';\").fetchall()\n",
    "print(tables)"
   ],
   "id": "2d7141960e93ffdc",
   "outputs": [
    {
     "name": "stdout",
     "output_type": "stream",
     "text": [
      "[('title.ratings',), ('title.principals',), ('title.akas',), ('name.basics',), ('title.basics',), ('title.episode',), ('title.crew',)]\n"
     ]
    }
   ],
   "execution_count": 7
  },
  {
   "metadata": {
    "ExecuteTime": {
     "end_time": "2025-10-07T16:07:27.024656Z",
     "start_time": "2025-10-07T16:06:56.885528Z"
    }
   },
   "cell_type": "code",
   "source": [
    "# no. of rows in each table\n",
    "for table in tables:\n",
    "    n_rows = imdb_conn.execute(f\"SELECT COUNT(*) FROM '{table[0]}'\").fetchall()\n",
    "    print(f\"{n_rows[0][0]} rows in table {table[0]}\")"
   ],
   "id": "cb147a87f03f4a0a",
   "outputs": [
    {
     "name": "stdout",
     "output_type": "stream",
     "text": [
      "1620976 rows in table title.ratings\n",
      "95052127 rows in table title.principals\n",
      "53205863 rows in table title.akas\n",
      "14750628 rows in table name.basics\n",
      "11946100 rows in table title.basics\n",
      "9198657 rows in table title.episode\n",
      "11948211 rows in table title.crew\n"
     ]
    }
   ],
   "execution_count": 14
  },
  {
   "metadata": {
    "ExecuteTime": {
     "end_time": "2025-10-07T16:09:07.426204Z",
     "start_time": "2025-10-07T16:09:07.419131Z"
    }
   },
   "cell_type": "code",
   "source": [
    "# column names\n",
    "for table in tables:\n",
    "    df = pd.read_sql_query(f\"SELECT * FROM '{table[0]}' LIMIT 1\", imdb_conn)\n",
    "    print(f\"{table[0]} has columns: {df.columns.tolist()}\")"
   ],
   "id": "f30750de91399622",
   "outputs": [
    {
     "name": "stdout",
     "output_type": "stream",
     "text": [
      "title.ratings has columns: ['tconst', 'averageRating', 'numVotes']\n",
      "title.principals has columns: ['tconst', 'ordering', 'nconst', 'category', 'job', 'characters']\n",
      "title.akas has columns: ['titleId', 'ordering', 'title', 'region', 'language', 'types', 'attributes', 'isOriginalTitle']\n",
      "name.basics has columns: ['nconst', 'primaryName', 'birthYear', 'deathYear', 'primaryProfession', 'knownForTitles']\n",
      "title.basics has columns: ['tconst', 'titleType', 'primaryTitle', 'originalTitle', 'isAdult', 'startYear', 'endYear', 'runtimeMinutes', 'genres']\n",
      "title.episode has columns: ['tconst', 'parentTconst', 'seasonNumber', 'episodeNumber']\n",
      "title.crew has columns: ['tconst', 'directors', 'writers']\n"
     ]
    }
   ],
   "execution_count": 17
  },
  {
   "metadata": {
    "ExecuteTime": {
     "end_time": "2025-10-07T16:30:26.996392Z",
     "start_time": "2025-10-07T16:30:26.433988Z"
    }
   },
   "cell_type": "code",
   "source": [
    "# Movies with over 1 million votes\n",
    "df = pd.read_sql(\"SELECT b.primaryTitle as Title, r.averageRating as Rating, r.numVotes as Votes FROM 'title.basics' b JOIN 'title.ratings' r ON r.tconst=b.tconst WHERE r.numVotes > 1000000 AND b.titleType = 'movie' ORDER BY r.averageRating DESC\", imdb_conn)\n",
    "print(df)\n",
    "print(df.shape)"
   ],
   "id": "938be3e25c5972e8",
   "outputs": [
    {
     "name": "stdout",
     "output_type": "stream",
     "text": [
      "                                         Title  Rating    Votes\n",
      "0                     The Shawshank Redemption     9.3  3104681\n",
      "1                                The Godfather     9.2  2163817\n",
      "2                              The Dark Knight     9.1  3079698\n",
      "3                        The Godfather Part II     9.0  1454090\n",
      "4                             Schindler's List     9.0  1547957\n",
      "..                                         ...     ...      ...\n",
      "73                                     Titanic     7.9  1358045\n",
      "74                                    Iron Man     7.9  1193976\n",
      "75                                      Avatar     7.9  1447474\n",
      "76  Star Wars: Episode VII - The Force Awakens     7.7  1010424\n",
      "77                            The Hunger Games     7.2  1057723\n",
      "\n",
      "[78 rows x 3 columns]\n",
      "(78, 3)\n"
     ]
    }
   ],
   "execution_count": 33
  },
  {
   "metadata": {
    "ExecuteTime": {
     "end_time": "2025-10-07T16:32:51.416221Z",
     "start_time": "2025-10-07T16:32:50.718698Z"
    }
   },
   "cell_type": "code",
   "source": [
    "# Rating distribution\n",
    "df = pd.read_sql(\"SELECT averageRating AS Ratings FROM 'title.ratings'\", imdb_conn)\n",
    "df.hist()"
   ],
   "id": "685821d5c2983d7e",
   "outputs": [
    {
     "data": {
      "text/plain": [
       "array([[<Axes: title={'center': 'Ratings'}>]], dtype=object)"
      ]
     },
     "execution_count": 36,
     "metadata": {},
     "output_type": "execute_result"
    },
    {
     "data": {
      "text/plain": [
       "<Figure size 640x480 with 1 Axes>"
      ],
      "image/png": "[encoded data removed]"
     },
     "metadata": {},
     "output_type": "display_data"
    }
   ],
   "execution_count": 36
  },
  {
   "metadata": {
    "ExecuteTime": {
     "end_time": "2025-10-07T16:46:22.162323Z",
     "start_time": "2025-10-07T16:46:19.427895Z"
    }
   },
   "cell_type": "code",
   "source": [
    "# Media types\n",
    "df = pd.read_sql(\"SELECT titleType, COUNT(*) as count FROM 'title.basics' GROUP BY titleType ORDER BY count DESC\", imdb_conn)\n",
    "print(df)"
   ],
   "id": "37b46bc92063f45e",
   "outputs": [
    {
     "name": "stdout",
     "output_type": "stream",
     "text": [
      "       titleType    count\n",
      "0      tvEpisode  9198657\n",
      "1          short  1086336\n",
      "2          movie   727314\n",
      "3          video   316761\n",
      "4       tvSeries   288412\n",
      "5        tvMovie   152510\n",
      "6   tvMiniSeries    65330\n",
      "7      tvSpecial    54649\n",
      "8      videoGame    45359\n",
      "9        tvShort    10771\n",
      "10       tvPilot        1\n"
     ]
    }
   ],
   "execution_count": 47
  },
  {
   "metadata": {
    "ExecuteTime": {
     "end_time": "2025-10-07T16:52:03.590962Z",
     "start_time": "2025-10-07T16:52:02.507627Z"
    }
   },
   "cell_type": "code",
   "source": [
    "# Genre types for movies\n",
    "df = pd.read_sql(\"SELECT genres FROM 'title.basics' WHERE titleType = 'movie'\", imdb_conn)\n",
    "print(df['genres'].str.split(',').explode().value_counts())"
   ],
   "id": "54226bb858c76a25",
   "outputs": [
    {
     "name": "stdout",
     "output_type": "stream",
     "text": [
      "genres\n",
      "Drama          265676\n",
      "Documentary    142932\n",
      "Comedy         121346\n",
      "\\N              77636\n",
      "Action          60064\n",
      "Romance         52444\n",
      "Thriller        51369\n",
      "Horror          44852\n",
      "Crime           42046\n",
      "Adventure       31125\n",
      "Mystery         19892\n",
      "Family          19577\n",
      "Biography       19392\n",
      "Fantasy         17547\n",
      "History         16210\n",
      "Sci-Fi          15918\n",
      "Music           14868\n",
      "Musical         11093\n",
      "Animation       10773\n",
      "War             10004\n",
      "Adult            8587\n",
      "Sport            8497\n",
      "Western          8092\n",
      "News             1486\n",
      "Film-Noir         880\n",
      "Reality-TV        587\n",
      "Talk-Show         212\n",
      "Game-Show          34\n",
      "Short               3\n",
      "Name: count, dtype: int64\n"
     ]
    }
   ],
   "execution_count": 59
  }
 ],
 "metadata": {
  "kernelspec": {
   "display_name": "Python 3",
   "language": "python",
   "name": "python3"
  },
  "language_info": {
   "codemirror_mode": {
    "name": "ipython",
    "version": 2
   },
   "file_extension": ".py",
   "mimetype": "text/x-python",
   "name": "python",
   "nbconvert_exporter": "python",
   "pygments_lexer": "ipython2",
   "version": "2.7.6"
  }
 },
 "nbformat": 4,
 "nbformat_minor": 5
}
