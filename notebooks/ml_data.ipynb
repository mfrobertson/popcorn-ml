{
 "cells": [
  {
   "cell_type": "code",
   "id": "initial_id",
   "metadata": {
    "collapsed": true,
    "ExecuteTime": {
     "end_time": "2025-10-06T18:04:08.126421Z",
     "start_time": "2025-10-06T18:04:08.122Z"
    }
   },
   "source": [
    "import sqlite3\n",
    "import pandas as pd\n",
    "import os"
   ],
   "outputs": [],
   "execution_count": 134
  },
  {
   "metadata": {
    "ExecuteTime": {
     "end_time": "2025-10-06T18:04:08.967733Z",
     "start_time": "2025-10-06T18:04:08.961566Z"
    }
   },
   "cell_type": "code",
   "source": [
    "sql_path = \"../data/sql/\"\n",
    "ml_path = os.path.join(sql_path, \"ml.sqlite\")\n",
    "ml_conn = sqlite3.connect(ml_path)"
   ],
   "id": "4e85e0d73afed00c",
   "outputs": [],
   "execution_count": 135
  },
  {
   "metadata": {
    "ExecuteTime": {
     "end_time": "2025-10-06T18:04:09.556046Z",
     "start_time": "2025-10-06T18:04:09.550834Z"
    }
   },
   "cell_type": "code",
   "source": [
    "tables = ml_conn.execute(\"SELECT name FROM sqlite_master WHERE type='table';\").fetchall()\n",
    "print(tables)"
   ],
   "id": "75a37330b92edc1d",
   "outputs": [
    {
     "name": "stdout",
     "output_type": "stream",
     "text": [
      "[('links',), ('tags',), ('ratings',), ('movies',)]\n"
     ]
    }
   ],
   "execution_count": 136
  },
  {
   "metadata": {
    "ExecuteTime": {
     "end_time": "2025-10-06T18:04:11.323316Z",
     "start_time": "2025-10-06T18:04:11.314044Z"
    }
   },
   "cell_type": "code",
   "source": [
    "# no. of rows in each table\n",
    "for table in tables:\n",
    "    count = ml_conn.execute(f\"SELECT COUNT(*) FROM {table[0]}\").fetchall()[0][0]\n",
    "    print(f\"{count} rows in {table[0]}\")"
   ],
   "id": "c277bff21d89c573",
   "outputs": [
    {
     "name": "stdout",
     "output_type": "stream",
     "text": [
      "9742 rows in links\n",
      "3683 rows in tags\n",
      "100836 rows in ratings\n",
      "9742 rows in movies\n"
     ]
    }
   ],
   "execution_count": 137
  },
  {
   "metadata": {
    "ExecuteTime": {
     "end_time": "2025-10-06T18:04:12.340543Z",
     "start_time": "2025-10-06T18:04:12.312180Z"
    }
   },
   "cell_type": "code",
   "source": [
    "# colums of each table\n",
    "for table in tables:\n",
    "    df = pd.read_sql(f\"SELECT * FROM {table[0]} LIMIT 1\", ml_conn)\n",
    "    print(f\"{table[0]} has columns: {df.columns.tolist()}\")"
   ],
   "id": "81c04909a5ef26ab",
   "outputs": [
    {
     "name": "stdout",
     "output_type": "stream",
     "text": [
      "links has columns: ['movieId', 'imdbId', 'tmdbId']\n",
      "tags has columns: ['userId', 'movieId', 'tag', 'timestamp']\n",
      "ratings has columns: ['userId', 'movieId', 'rating', 'timestamp']\n",
      "movies has columns: ['movieId', 'title', 'genres']\n"
     ]
    }
   ],
   "execution_count": 138
  },
  {
   "metadata": {
    "ExecuteTime": {
     "end_time": "2025-10-06T18:04:16.543886Z",
     "start_time": "2025-10-06T18:04:16.513259Z"
    }
   },
   "cell_type": "code",
   "source": [
    "# no. of movies, people, ratings\n",
    "numUsers = ml_conn.execute(\"SELECT COUNT(DISTINCT userID) FROM ratings\").fetchall()[0][0]\n",
    "numMovies = ml_conn.execute(\"SELECT COUNT(DISTINCT movieID) FROM ratings\").fetchall()[0][0]\n",
    "numRatings = ml_conn.execute(\"SELECT COUNT(*) FROM ratings\").fetchall()[0][0]\n",
    "print(f\"{numUsers} users and {numMovies} movies and {numRatings} ratings.\")"
   ],
   "id": "9699e5f4e38b3bef",
   "outputs": [
    {
     "name": "stdout",
     "output_type": "stream",
     "text": [
      "610 users and 9724 movies and 100836 ratings.\n"
     ]
    }
   ],
   "execution_count": 139
  },
  {
   "metadata": {
    "ExecuteTime": {
     "end_time": "2025-10-06T18:48:54.032674Z",
     "start_time": "2025-10-06T18:48:53.929336Z"
    }
   },
   "cell_type": "code",
   "source": [
    "# rating distro\n",
    "df = pd.read_sql(f\"SELECT rating FROM ratings\", ml_conn)\n",
    "df.hist()"
   ],
   "id": "9fea90cfc66afa45",
   "outputs": [
    {
     "data": {
      "text/plain": [
       "array([[<Axes: title={'center': 'rating'}>]], dtype=object)"
      ]
     },
     "execution_count": 188,
     "metadata": {},
     "output_type": "execute_result"
    },
    {
     "data": {
      "text/plain": [
       "<Figure size 640x480 with 1 Axes>"
      ],
      "image/png": "[encoded data removed]"
     },
     "metadata": {},
     "output_type": "display_data"
    }
   ],
   "execution_count": 188
  },
  {
   "metadata": {
    "ExecuteTime": {
     "end_time": "2025-10-06T18:04:20.865654Z",
     "start_time": "2025-10-06T18:04:20.842151Z"
    }
   },
   "cell_type": "code",
   "source": [
    "# genre freq.\n",
    "df = pd.read_sql(f\"SELECT genres FROM movies\", ml_conn)\n",
    "print(df['genres'].str.split('|').explode().value_counts())"
   ],
   "id": "9d31f11754aaffc",
   "outputs": [
    {
     "name": "stdout",
     "output_type": "stream",
     "text": [
      "genres\n",
      "Drama                 4361\n",
      "Comedy                3756\n",
      "Thriller              1894\n",
      "Action                1828\n",
      "Romance               1596\n",
      "Adventure             1263\n",
      "Crime                 1199\n",
      "Sci-Fi                 980\n",
      "Horror                 978\n",
      "Fantasy                779\n",
      "Children               664\n",
      "Animation              611\n",
      "Mystery                573\n",
      "Documentary            440\n",
      "War                    382\n",
      "Musical                334\n",
      "Western                167\n",
      "IMAX                   158\n",
      "Film-Noir               87\n",
      "(no genres listed)      34\n",
      "Name: count, dtype: int64\n"
     ]
    }
   ],
   "execution_count": 141
  },
  {
   "metadata": {
    "ExecuteTime": {
     "end_time": "2025-10-06T18:38:01.185997Z",
     "start_time": "2025-10-06T18:38:01.110038Z"
    }
   },
   "cell_type": "code",
   "source": [
    "# Top rated and ranked movies\n",
    "df = pd.read_sql(\"SELECT m.title, COUNT(r.rating) AS num_ratings, ROUND(AVG(r.rating),2) as avg_ratings FROM ratings r JOIN movies m ON r.movieId=m.movieId GROUP BY m.title HAVING num_ratings > 100 ORDER BY avg_ratings DESC LIMIT 10\", ml_conn)\n",
    "print(\"Top rated\")\n",
    "print(df)"
   ],
   "id": "8f91e5ee0483bf09",
   "outputs": [
    {
     "name": "stdout",
     "output_type": "stream",
     "text": [
      "Top rated\n",
      "                                       title  num_ratings  avg_ratings\n",
      "0           Shawshank Redemption, The (1994)          317         4.43\n",
      "1                      Godfather, The (1972)          192         4.29\n",
      "2                          Fight Club (1999)          218         4.27\n",
      "3             Godfather: Part II, The (1974)          129         4.26\n",
      "4                          Goodfellas (1990)          126         4.25\n",
      "5                       Departed, The (2006)          107         4.25\n",
      "6                 Usual Suspects, The (1995)          204         4.24\n",
      "7                    Dark Knight, The (2008)          149         4.24\n",
      "8  Star Wars: Episode IV - A New Hope (1977)          251         4.23\n",
      "9                 Princess Bride, The (1987)          142         4.23\n"
     ]
    }
   ],
   "execution_count": 185
  },
  {
   "metadata": {
    "ExecuteTime": {
     "end_time": "2025-10-06T18:38:03.365390Z",
     "start_time": "2025-10-06T18:38:03.306999Z"
    }
   },
   "cell_type": "code",
   "source": [
    "df = pd.read_sql(\"SELECT m.title, COUNT(r.rating) AS num_ratings, ROUND(AVG(r.rating),2) as avg_ratings FROM ratings r JOIN movies m ON r.movieId=m.movieId GROUP BY m.title ORDER BY num_ratings DESC LIMIT 10\", ml_conn)\n",
    "print(\"Most rated\")\n",
    "print(df)"
   ],
   "id": "727c9fef9956ba17",
   "outputs": [
    {
     "name": "stdout",
     "output_type": "stream",
     "text": [
      "Most rated\n",
      "                                       title  num_ratings  avg_ratings\n",
      "0                        Forrest Gump (1994)          329         4.16\n",
      "1           Shawshank Redemption, The (1994)          317         4.43\n",
      "2                        Pulp Fiction (1994)          307         4.20\n",
      "3           Silence of the Lambs, The (1991)          279         4.16\n",
      "4                         Matrix, The (1999)          278         4.19\n",
      "5  Star Wars: Episode IV - A New Hope (1977)          251         4.23\n",
      "6                       Jurassic Park (1993)          238         3.75\n",
      "7                          Braveheart (1995)          237         4.03\n",
      "8          Terminator 2: Judgment Day (1991)          224         3.97\n",
      "9                    Schindler's List (1993)          220         4.22\n"
     ]
    }
   ],
   "execution_count": 186
  }
 ],
 "metadata": {
  "kernelspec": {
   "display_name": "Python 3",
   "language": "python",
   "name": "python3"
  },
  "language_info": {
   "codemirror_mode": {
    "name": "ipython",
    "version": 2
   },
   "file_extension": ".py",
   "mimetype": "text/x-python",
   "name": "python",
   "nbconvert_exporter": "python",
   "pygments_lexer": "ipython2",
   "version": "2.7.6"
  }
 },
 "nbformat": 4,
 "nbformat_minor": 5
}
